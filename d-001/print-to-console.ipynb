{
 "cells": [
  {
   "cell_type": "markdown",
   "id": "c40d2f16-8401-489a-9050-74bc2f3803f6",
   "metadata": {},
   "source": [
    "# 100 Days of Python\n",
    "## Day 001: Hello Python\n",
    "Welcome to the course and the wide-world of Python, I hope you packed your wetsuit 'cos we're about to dive in!\n",
    "\n",
    "First and foremost as we begin working with Python we're going to need to be able to see what our code is doing, to help us learn and understand what we're doing. To do this the first thing we'll learn about is the `print()` function, which basically _prints_ something as output to the _console_."
   ]
  },
  {
   "cell_type": "code",
   "execution_count": 1,
   "id": "cb81efbc-7175-4181-a1c7-44c8b4afd590",
   "metadata": {},
   "outputs": [
    {
     "name": "stdout",
     "output_type": "stream",
     "text": [
      "Hello Python!\n"
     ]
    }
   ],
   "source": [
    "print(\"Hello Python!\")"
   ]
  },
  {
   "cell_type": "markdown",
   "id": "a0c38034-7271-4b5f-a7cc-08c967292806",
   "metadata": {},
   "source": [
    "There that wasn't too difficult was it? Congratulations you've just written (and run) your first Python script!\n",
    "\n",
    "So what happened is the function output the text that we gave it (in quotation marks, between the parenthases) and printed it on the _console_.\n",
    "\n",
    "However, since we also need to begin to introduce you not just to the Python programming language but to some of the language _we_ use when talking about programming also, we could re-describe we just did by saying that:\n",
    "> \"we passed a _**string**_ of text as a _**parameter**_ in to the `print` function\"\n",
    "\n",
    "<br/>\n",
    "\n",
    "Another important thing to note is the colours used in the display of the code we wrote. Notice how `print` is written in <font color=\"green\">_**green**_</font>; the parenthases `( )` are _**white**_; and the text including the quotation marks are kind of <font color=\"LightCoral\">_**orangey-red**_</font>.\n",
    "\n",
    "This is known as _**syntax-highlighting**_ and almost all code editors will support it in some form. It's purpose is simply to make reading and understanding your code easier. Different editors might use different colours, the styles may vary, and often you can customise the _'theme'_ used (or even download your favourite pre-made ones), but they all serve the same purpose.\n",
    "\n",
    "A visual guide such as this will help you to spot errors in your code much quicker than if everything was just all the same coloured text.\n",
    "\n",
    "**For example:** What looks wrong with the code below compared to what we wrote above?\n",
    "\n",
    "\\[Hint: what colour is the closing parenthasis?]"
   ]
  },
  {
   "cell_type": "code",
   "execution_count": 3,
   "id": "333b51e4-73cc-4ded-8e76-e521e8efb7c4",
   "metadata": {},
   "outputs": [
    {
     "name": "stdout",
     "output_type": "stream",
     "text": [
      "Hello Python!\n"
     ]
    }
   ],
   "source": [
    "print(\"Hello Python!\")"
   ]
  },
  {
   "cell_type": "markdown",
   "id": "f8e2c1e7-4cf7-4707-8c2d-5ee91511acf0",
   "metadata": {},
   "source": [
    "...and when we try to run this code we get this ugly looking thing. Congratulations you have produced your first _**Error**_! -- Don't worry, there will plenty more of those on your coding journey ;)\n",
    "\n",
    "But let's try to make sense of this error...starting at the bottom, this gives us the _actual_ name/type of the error, in this case it is a \"<font colour=\"red\">SyntaxError</font> and it gives us a little more information here telling us that we have an \"unterminated string ... at line 1\".\n",
    "\n",
    "Again this is where understanding of _our_ langauge comes in to play, but as this is still new and unfamiliar it still needs a little translating:\n",
    "- \"unterminated\" could mean 'unfinished' or 'incomplete'\n",
    "- \"string\": well we know from our description earlier that we passed _\"a **string** of text\"_ to the function, so this probably just means the _text_.\n",
    "\n",
    "You may also notice just above this line there is a little 'carrot' symbol ` ^ ` which is pointing at the first quotation mark. We amy also note at this point that, as hinted at above, the closing parenthasis is the same colour as the text-string, not **white** like the first (opening) parenthasis.\n",
    "\n",
    " Together all f this should help to make it clear that we are _missing_ the closing quotation mark ` \" `!\n",
    "\n",
    " So try putting this back in and re-run the code-cell, then hopefully the error should disappear and we should see the correct output again, same as before!"
   ]
  },
  {
   "cell_type": "markdown",
   "id": "d8514052-a66c-4885-9362-99f5b3375578",
   "metadata": {},
   "source": [
    "### Glossary\n",
    "[1] The _console_ is the \"Standard Output\" (stdout) channel a computer program uses for output when running from the command-line (or 'terminal'). -- Handily, since we're using Notebooks rather than the command-line, Jupyter redirects this output and displays directly below the associated code-cell here in the Notebook for us automatically!"
   ]
  }
 ],
 "metadata": {
  "kernelspec": {
   "display_name": "Python 3 (ipykernel)",
   "language": "python",
   "name": "python3"
  },
  "language_info": {
   "codemirror_mode": {
    "name": "ipython",
    "version": 3
   },
   "file_extension": ".py",
   "mimetype": "text/x-python",
   "name": "python",
   "nbconvert_exporter": "python",
   "pygments_lexer": "ipython3",
   "version": "3.12.3"
  }
 },
 "nbformat": 4,
 "nbformat_minor": 5
}
